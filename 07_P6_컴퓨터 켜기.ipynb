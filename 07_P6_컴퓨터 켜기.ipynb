{
 "cells": [
  {
   "cell_type": "markdown",
   "metadata": {},
   "source": [
    "컴퓨터 겨기\n",
    "\n",
    "엘리스대학교 컴퓨터공학과 실습실 E912호에는 현재 N대의 컴퓨터가 있고 또 N명의 조교가 있습니다. 1번째 조교는 1의 배수 번째 컴퓨터를 켜져 있으면 끄고 꺼져 있으면 켭니다. 2번째 조교는 2의 배수 번째 컴퓨터를 켜져 있으면 끄고 꺼져 있으면 켭니다. 이러한 행동을 N번째 조교까지 진행한 후 켜져 있는 컴퓨터의 대수를 구하세요. 단, 처음에 모든 컴퓨터는 꺼져 있습니다.\n",
    "\n",
    "예를 들어 현재 3개의 컴퓨터가 있고 3명의 사람이 있을 때,\n",
    "\n",
    "1번째 사람은 1의 배수인 1,2,3번 컴퓨터를 켭니다. (1, 1, 1) 2번째 사람은 2의 배수인 2번 컴퓨터를 끕니다. (1, 0, 1) 3번째 사람은 3의 배수는 3번 컴퓨터를 끕니다. (1, 0, 0) 결과적으로 마지막에 켜져 있는 컴퓨터의 개수는 1대 입니다."
   ]
  },
  {
   "cell_type": "code",
   "execution_count": null,
   "metadata": {
    "collapsed": false
   },
   "outputs": [],
   "source": [
    "import math\n",
    "\n",
    "def getAnswer(n):\n",
    "\n",
    "    return int(math.sqrt(n))\n",
    "\n",
    "def main():\n",
    "\n",
    "    print(getAnswer(int(input())))\n",
    "\n",
    "if __name__ == \"__main__\":\n",
    "    main()\n"
   ]
  }
 ],
 "metadata": {
  "kernelspec": {
   "display_name": "Python 2",
   "language": "python",
   "name": "python2"
  },
  "language_info": {
   "codemirror_mode": {
    "name": "ipython",
    "version": 2
   },
   "file_extension": ".py",
   "mimetype": "text/x-python",
   "name": "python",
   "nbconvert_exporter": "python",
   "pygments_lexer": "ipython2",
   "version": "2.7.13"
  }
 },
 "nbformat": 4,
 "nbformat_minor": 2
}
