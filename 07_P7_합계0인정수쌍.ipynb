{
 "cells": [
  {
   "cell_type": "code",
   "execution_count": null,
   "metadata": {
    "collapsed": true
   },
   "outputs": [],
   "source": [
    "def sum_0(data): \n",
    "    # Implement here\n",
    "\n",
    "    return_pair = [0, 0]\n",
    "\n",
    "    i = 0\n",
    "    j = len(data)-1\n",
    "    min_num = 100000000\n",
    "    while i < j :\n",
    "        if min_num > abs(data[i]+data[j]) :\n",
    "            min_num = abs(data[i]+data[j])\n",
    "            return_pair[0] = data[i]\n",
    "            return_pair[1] = data[j]\n",
    "        if abs(data[i]+data[j-1]) > abs(data[i+1]+data[j]) :\n",
    "            i = i+1\n",
    "        else :\n",
    "            j = j-1\n",
    "\n",
    "    return return_pair\n",
    "\n",
    "def main():\n",
    "    '''\n",
    "    이 부분은 수정하지 마세요.\n",
    "    '''\n",
    "\n",
    "    given_data = input()\n",
    "\n",
    "    data = [int(v.strip()) for v in given_data.split()]\n",
    "\n",
    "    print (*sum_0(data)) \n",
    "\n",
    "if __name__ == \"__main__\":\n",
    "    main()\n"
   ]
  }
 ],
 "metadata": {
  "kernelspec": {
   "display_name": "Python 2",
   "language": "python",
   "name": "python2"
  },
  "language_info": {
   "codemirror_mode": {
    "name": "ipython",
    "version": 2
   },
   "file_extension": ".py",
   "mimetype": "text/x-python",
   "name": "python",
   "nbconvert_exporter": "python",
   "pygments_lexer": "ipython2",
   "version": "2.7.13"
  }
 },
 "nbformat": 4,
 "nbformat_minor": 2
}
