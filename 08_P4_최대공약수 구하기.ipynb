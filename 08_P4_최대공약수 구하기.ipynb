{
 "cells": [
  {
   "cell_type": "markdown",
   "metadata": {},
   "source": [
    "최대공약수 구하기\n",
    "\n",
    "두 자연수 xx, yy의 최대공약수를 출력하는 프로그램을 작성하세요.\n",
    "\n",
    "이 문제에서는 유클리드 호제법을 이용하여 두 자연수의 최대공약수를 구합니다.\n",
    "\n",
    "유클리드 호제법을 간단하게 이야기하면 다음과 같습니다.\n",
    "\n",
    "gcd(xx, yy) 를 xx와 yy의 최대공약수라고 정의합니다. 그러면 다음의 식이 성립합니다.\n",
    "\n",
    "gcd(xx, yy) = gcd(yy, xx%yy)\n",
    "\n",
    "예를 들어, 1071과 1029의 최대공약수는 따라서 다음과 같이 구할 수 있습니다.\n",
    "\n",
    "gcd(1071, 1029) = gcd(1029, 42) = gcd(42, 21) = 21\n",
    "\n",
    "참고로 gcd(42, 21) = 21 인 이유는, 42가 21로 나누어 떨어지기 때문에 42와 21의 최대공약수는 21이 됩니다.\n",
    "\n",
    "자세한 설명은 다음의 링크를 참고해주세요. 위의 예제 또한 이 링크에서 발췌되었습니다.\n",
    "\n",
    "입력\n",
    "\n",
    "첫번째 줄에 두 자연수 xx, yy가 주어집니다.\n",
    "\n",
    "출력\n",
    "\n",
    "두 자연수 xx, yy의 최대공약수를 출력합니다."
   ]
  },
  {
   "cell_type": "code",
   "execution_count": null,
   "metadata": {
    "collapsed": true
   },
   "outputs": [],
   "source": [
    "def GCD(x, y) :\n",
    "    '''\n",
    "    x, y의 최대공약수를 반환하는 함수\n",
    "    '''\n",
    "    if x % y == 0:\n",
    "        return y\n",
    "    \n",
    "    return GCD(y, x%y)\n",
    "        \n",
    "    \n",
    "\n",
    "def main():\n",
    "    '''\n",
    "    Do not change this code\n",
    "    '''\n",
    "\n",
    "    data = input()\n",
    "\n",
    "    x = int(data.split()[0])\n",
    "    y = int(data.split()[1])\n",
    "\n",
    "    print(GCD(x, y))\n",
    "\n",
    "if __name__ == \"__main__\":\n",
    "    main()\n"
   ]
  }
 ],
 "metadata": {
  "kernelspec": {
   "display_name": "Python 2",
   "language": "python",
   "name": "python2"
  },
  "language_info": {
   "codemirror_mode": {
    "name": "ipython",
    "version": 2
   },
   "file_extension": ".py",
   "mimetype": "text/x-python",
   "name": "python",
   "nbconvert_exporter": "python",
   "pygments_lexer": "ipython2",
   "version": "2.7.13"
  }
 },
 "nbformat": 4,
 "nbformat_minor": 2
}
