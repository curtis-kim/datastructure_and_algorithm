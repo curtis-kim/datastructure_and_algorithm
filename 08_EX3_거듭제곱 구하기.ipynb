{
 "cells": [
  {
   "cell_type": "markdown",
   "metadata": {},
   "source": [
    "거듭제곱 구하기\n",
    "\n",
    "본 연습문제에서는 m^nm\n",
    "​n\n",
    "​​ 을 구하는 프로그램을 작성합니다.\n",
    "\n",
    "만약 pow_log 함수의 반환 값이 1,000,000,007 보다 클 경우, 반환 값을 1,000,000,007로 나눈 나머지 값을 반환하세요.\n",
    "\n",
    "입력\n",
    "\n",
    "첫 번째 줄에 mm과 nn이 주어집니다. (1 \\leq n \\leq 1,000,000,000,0001≤n≤1,000,000,000,000)\n",
    "\n",
    "출력\n",
    "\n",
    "m^nm\n",
    "​n\n",
    "​​ 을 1,000,000,007으로 나눈 나머지를 출력합니다."
   ]
  },
  {
   "cell_type": "code",
   "execution_count": null,
   "metadata": {
    "collapsed": true
   },
   "outputs": [],
   "source": [
    "LIMIT_NUMBER = 1000000007\n",
    "\n",
    "def getPower(m, n):\n",
    "\n",
    "    if n == 0 :\n",
    "        return 1\n",
    "    if n % 2 ==0 :\n",
    "        temp = getPower(m, n//2)\n",
    "        return ((temp * temp) % LIMIT_NUMBER)\n",
    "    else :\n",
    "        return (m*getPower(m, n-1) % LIMIT_NUMBER)\n",
    "\n",
    "def main():\n",
    "   \n",
    "\n",
    "    myList = [int(v) for v in input().split()]\n",
    "\n",
    "    print(getPower(myList[0], myList[1]))\n",
    "\n",
    "if __name__ == \"__main__\":\n",
    "    main()\n"
   ]
  }
 ],
 "metadata": {
  "kernelspec": {
   "display_name": "Python 2",
   "language": "python",
   "name": "python2"
  },
  "language_info": {
   "codemirror_mode": {
    "name": "ipython",
    "version": 2
   },
   "file_extension": ".py",
   "mimetype": "text/x-python",
   "name": "python",
   "nbconvert_exporter": "python",
   "pygments_lexer": "ipython2",
   "version": "2.7.13"
  }
 },
 "nbformat": 4,
 "nbformat_minor": 2
}
